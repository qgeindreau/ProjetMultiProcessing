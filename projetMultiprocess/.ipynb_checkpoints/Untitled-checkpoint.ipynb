{
 "cells": [
  {
   "cell_type": "code",
   "execution_count": null,
   "id": "ec198176",
   "metadata": {},
   "outputs": [],
   "source": [
    "from multiprocessing.connection import Client\n",
    "\n",
    "address = ('localhost', 6050)\n",
    "data='bababa'\n",
    "with Client(address, authkey=b'secret password') as conn:\n",
    "    while 1>0:\n",
    "        data=input(\">>\")\n",
    "        conn.send(data)\n"
   ]
  },
  {
   "cell_type": "code",
   "execution_count": null,
   "id": "d7c6bbaa",
   "metadata": {},
   "outputs": [],
   "source": []
  },
  {
   "cell_type": "code",
   "execution_count": null,
   "id": "16126834",
   "metadata": {},
   "outputs": [],
   "source": []
  }
 ],
 "metadata": {
  "kernelspec": {
   "display_name": "Python 3 (ipykernel)",
   "language": "python",
   "name": "python3"
  },
  "language_info": {
   "codemirror_mode": {
    "name": "ipython",
    "version": 3
   },
   "file_extension": ".py",
   "mimetype": "text/x-python",
   "name": "python",
   "nbconvert_exporter": "python",
   "pygments_lexer": "ipython3",
   "version": "3.9.7"
  }
 },
 "nbformat": 4,
 "nbformat_minor": 5
}
